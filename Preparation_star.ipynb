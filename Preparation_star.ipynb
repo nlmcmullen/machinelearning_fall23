{
 "cells": [
  {
   "cell_type": "code",
   "execution_count": 1,
   "id": "b14ca872-6189-486c-a35a-8b4b3a236193",
   "metadata": {},
   "outputs": [
    {
     "name": "stdout",
     "output_type": "stream",
     "text": [
      "Noms des colonnes :  ['obj_ID', 'alpha', 'delta', 'u', 'g', 'r', 'i', 'z', 'run_ID', 'rerun_ID', 'cam_col', 'field_ID', 'spec_obj_ID', 'class', 'redshift', 'plate', 'MJD', 'fiber_ID']\n",
      "\n",
      "Proportion de valeurs vides par colonne :\n",
      " obj_ID         0.0\n",
      "alpha          0.0\n",
      "delta          0.0\n",
      "u              0.0\n",
      "g              0.0\n",
      "r              0.0\n",
      "i              0.0\n",
      "z              0.0\n",
      "run_ID         0.0\n",
      "rerun_ID       0.0\n",
      "cam_col        0.0\n",
      "field_ID       0.0\n",
      "spec_obj_ID    0.0\n",
      "class          0.0\n",
      "redshift       0.0\n",
      "plate          0.0\n",
      "MJD            0.0\n",
      "fiber_ID       0.0\n",
      "dtype: float64\n",
      "(100000, 18)\n",
      "             obj_ID          alpha          delta              u  \\\n",
      "count  1.000000e+05  100000.000000  100000.000000  100000.000000   \n",
      "mean   1.237665e+18     177.629117      24.135305      21.980468   \n",
      "std    8.438560e+12      96.502241      19.644665      31.769291   \n",
      "min    1.237646e+18       0.005528     -18.785328   -9999.000000   \n",
      "25%    1.237659e+18     127.518222       5.146771      20.352353   \n",
      "50%    1.237663e+18     180.900700      23.645922      22.179135   \n",
      "75%    1.237668e+18     233.895005      39.901550      23.687440   \n",
      "max    1.237681e+18     359.999810      83.000519      32.781390   \n",
      "\n",
      "                   g              r              i              z  \\\n",
      "count  100000.000000  100000.000000  100000.000000  100000.000000   \n",
      "mean       20.531387      19.645762      19.084854      18.668810   \n",
      "std        31.750292       1.854760       1.757895      31.728152   \n",
      "min     -9999.000000       9.822070       9.469903   -9999.000000   \n",
      "25%        18.965230      18.135828      17.732285      17.460677   \n",
      "50%        21.099835      20.125290      19.405145      19.004595   \n",
      "75%        22.123767      21.044785      20.396495      19.921120   \n",
      "max        31.602240      29.571860      32.141470      29.383740   \n",
      "\n",
      "              run_ID  rerun_ID        cam_col       field_ID   spec_obj_ID  \\\n",
      "count  100000.000000  100000.0  100000.000000  100000.000000  1.000000e+05   \n",
      "mean     4481.366060     301.0       3.511610     186.130520  5.783882e+18   \n",
      "std      1964.764593       0.0       1.586912     149.011073  3.324016e+18   \n",
      "min       109.000000     301.0       1.000000      11.000000  2.995191e+17   \n",
      "25%      3187.000000     301.0       2.000000      82.000000  2.844138e+18   \n",
      "50%      4188.000000     301.0       4.000000     146.000000  5.614883e+18   \n",
      "75%      5326.000000     301.0       5.000000     241.000000  8.332144e+18   \n",
      "max      8162.000000     301.0       6.000000     989.000000  1.412694e+19   \n",
      "\n",
      "            redshift          plate            MJD       fiber_ID  \n",
      "count  100000.000000  100000.000000  100000.000000  100000.000000  \n",
      "mean        0.576661    5137.009660   55588.647500     449.312740  \n",
      "std         0.730707    2952.303351    1808.484233     272.498404  \n",
      "min        -0.009971     266.000000   51608.000000       1.000000  \n",
      "25%         0.054517    2526.000000   54234.000000     221.000000  \n",
      "50%         0.424173    4987.000000   55868.500000     433.000000  \n",
      "75%         0.704154    7400.250000   56777.000000     645.000000  \n",
      "max         7.011245   12547.000000   58932.000000    1000.000000  \n",
      "obj_ID         float64\n",
      "alpha          float64\n",
      "delta          float64\n",
      "u              float64\n",
      "g              float64\n",
      "r              float64\n",
      "i              float64\n",
      "z              float64\n",
      "run_ID           int64\n",
      "rerun_ID         int64\n",
      "cam_col          int64\n",
      "field_ID         int64\n",
      "spec_obj_ID    float64\n",
      "class           object\n",
      "redshift       float64\n",
      "plate            int64\n",
      "MJD              int64\n",
      "fiber_ID         int64\n",
      "dtype: object\n"
     ]
    }
   ],
   "source": [
    "import pandas as pd\n",
    "import numpy as np\n",
    "\n",
    "# Charger les données depuis le fichier CSV\n",
    "donnees = pd.read_csv('star_classification.csv')\n",
    "\n",
    "# Obtenir les noms des colonnes\n",
    "noms_colonnes = donnees.columns.tolist()\n",
    "\n",
    "# Calculer la proportion de valeurs vides pour chaque colonne\n",
    "proportion_valeurs_vides = donnees.isnull().mean()\n",
    "\n",
    "print(\"Noms des colonnes : \", noms_colonnes)\n",
    "print(\"\\nProportion de valeurs vides par colonne :\\n\", proportion_valeurs_vides)\n",
    "print(donnees.shape)\n",
    "print(donnees.describe())\n",
    "print(donnees.dtypes)"
   ]
  },
  {
   "cell_type": "code",
   "execution_count": 2,
   "id": "e7c15ec1-be54-4261-b9f9-52521156178d",
   "metadata": {},
   "outputs": [
    {
     "name": "stdout",
     "output_type": "stream",
     "text": [
      "(100000, 9)\n",
      "               alpha          delta              u              g  \\\n",
      "count  100000.000000  100000.000000  100000.000000  100000.000000   \n",
      "mean      177.629117      24.135305      21.980468      20.531387   \n",
      "std        96.502241      19.644665      31.769291      31.750292   \n",
      "min         0.005528     -18.785328   -9999.000000   -9999.000000   \n",
      "25%       127.518222       5.146771      20.352353      18.965230   \n",
      "50%       180.900700      23.645922      22.179135      21.099835   \n",
      "75%       233.895005      39.901550      23.687440      22.123767   \n",
      "max       359.999810      83.000519      32.781390      31.602240   \n",
      "\n",
      "                   r              i              z       redshift  \n",
      "count  100000.000000  100000.000000  100000.000000  100000.000000  \n",
      "mean       19.645762      19.084854      18.668810       0.576661  \n",
      "std         1.854760       1.757895      31.728152       0.730707  \n",
      "min         9.822070       9.469903   -9999.000000      -0.009971  \n",
      "25%        18.135828      17.732285      17.460677       0.054517  \n",
      "50%        20.125290      19.405145      19.004595       0.424173  \n",
      "75%        21.044785      20.396495      19.921120       0.704154  \n",
      "max        29.571860      32.141470      29.383740       7.011245  \n",
      "alpha       float64\n",
      "delta       float64\n",
      "u           float64\n",
      "g           float64\n",
      "r           float64\n",
      "i           float64\n",
      "z           float64\n",
      "class        object\n",
      "redshift    float64\n",
      "dtype: object\n"
     ]
    }
   ],
   "source": [
    "colonnes_a_supprimer = ['obj_ID', 'run_ID', 'rerun_ID', 'cam_col', 'field_ID', 'spec_obj_ID', 'plate', 'MJD', 'fiber_ID']\n",
    "\n",
    "# Supprimer les colonnes du DataFrame\n",
    "star = donnees.drop(columns=colonnes_a_supprimer)\n",
    "star.to_csv('star.csv', index=False)\n",
    "print(star.shape)\n",
    "print(star.describe())\n",
    "print(star.dtypes)"
   ]
  },
  {
   "cell_type": "code",
   "execution_count": 3,
   "id": "b70a3460-1b2a-4d77-92a9-5974e5a468f2",
   "metadata": {},
   "outputs": [
    {
     "name": "stdout",
     "output_type": "stream",
     "text": [
      "class\n",
      "GALAXY    0.59445\n",
      "STAR      0.21594\n",
      "QSO       0.18961\n",
      "Name: proportion, dtype: float64\n"
     ]
    }
   ],
   "source": [
    "proportions = donnees['class'].value_counts(normalize=True)\n",
    "\n",
    "# Afficher les proportions\n",
    "print(proportions)"
   ]
  },
  {
   "cell_type": "code",
   "execution_count": null,
   "id": "18a78b96-c518-49b4-a672-e1221c55953a",
   "metadata": {},
   "outputs": [],
   "source": []
  }
 ],
 "metadata": {
  "kernelspec": {
   "display_name": "Python 3 (ipykernel)",
   "language": "python",
   "name": "python3"
  },
  "language_info": {
   "codemirror_mode": {
    "name": "ipython",
    "version": 3
   },
   "file_extension": ".py",
   "mimetype": "text/x-python",
   "name": "python",
   "nbconvert_exporter": "python",
   "pygments_lexer": "ipython3",
   "version": "3.11.5"
  }
 },
 "nbformat": 4,
 "nbformat_minor": 5
}
