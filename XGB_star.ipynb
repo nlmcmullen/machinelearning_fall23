{
 "cells": [
  {
   "cell_type": "code",
   "execution_count": 1,
   "id": "f29666c9-f2f1-48c0-b3ed-0bd38063f269",
   "metadata": {},
   "outputs": [
    {
     "name": "stdout",
     "output_type": "stream",
     "text": [
      "Précision: 0.9756666666666667\n",
      "\n",
      "Rapport de classification:\n",
      "               precision    recall  f1-score   support\n",
      "\n",
      "      GALAXY       0.98      0.98      0.98     17845\n",
      "         QSO       0.96      0.93      0.94      5700\n",
      "        STAR       0.99      0.99      0.99      6455\n",
      "\n",
      "    accuracy                           0.98     30000\n",
      "   macro avg       0.98      0.97      0.97     30000\n",
      "weighted avg       0.98      0.98      0.98     30000\n",
      "\n"
     ]
    }
   ],
   "source": [
    "from xgboost import XGBClassifier\n",
    "from sklearn.model_selection import train_test_split\n",
    "from sklearn.metrics import classification_report, accuracy_score\n",
    "from sklearn.preprocessing import LabelEncoder\n",
    "import pandas as pd\n",
    "\n",
    "# Chargement de vos données\n",
    "donnees = pd.read_csv('star.csv')\n",
    "\n",
    "# Séparation des données en variables indépendantes et dépendante\n",
    "X = donnees.drop('class', axis=1)\n",
    "y = donnees['class']\n",
    "\n",
    "# Conversion des étiquettes textuelles en étiquettes numériques\n",
    "label_encoder = LabelEncoder()\n",
    "y_encoded = label_encoder.fit_transform(y)\n",
    "\n",
    "# Séparation des données en ensembles d'entraînement et de test\n",
    "X_train, X_test, y_train, y_test = train_test_split(X, y_encoded, test_size=0.3, random_state=42)\n",
    "\n",
    "# Création d'un classificateur XGBoost\n",
    "xgb_clf = XGBClassifier(use_label_encoder=False, eval_metric='mlogloss')\n",
    "\n",
    "# Entraînement du modèle\n",
    "xgb_clf.fit(X_train, y_train)\n",
    "\n",
    "# Prédiction sur l'ensemble de test\n",
    "y_pred = xgb_clf.predict(X_test)\n",
    "\n",
    "# Conversion des prédictions numériques en étiquettes textuelles pour l'évaluation\n",
    "y_pred_labels = label_encoder.inverse_transform(y_pred)\n",
    "y_test_labels = label_encoder.inverse_transform(y_test)\n",
    "\n",
    "# Évaluation du modèle\n",
    "accuracy = accuracy_score(y_test_labels, y_pred_labels)\n",
    "print(\"Précision:\", accuracy)\n",
    "print(\"\\nRapport de classification:\\n\", classification_report(y_test_labels, y_pred_labels))\n"
   ]
  },
  {
   "cell_type": "code",
   "execution_count": null,
   "id": "dc4306d0-e0fe-4a2e-bcd1-3d2b39793e1e",
   "metadata": {},
   "outputs": [],
   "source": []
  }
 ],
 "metadata": {
  "kernelspec": {
   "display_name": "Python 3 (ipykernel)",
   "language": "python",
   "name": "python3"
  },
  "language_info": {
   "codemirror_mode": {
    "name": "ipython",
    "version": 3
   },
   "file_extension": ".py",
   "mimetype": "text/x-python",
   "name": "python",
   "nbconvert_exporter": "python",
   "pygments_lexer": "ipython3",
   "version": "3.11.5"
  }
 },
 "nbformat": 4,
 "nbformat_minor": 5
}
